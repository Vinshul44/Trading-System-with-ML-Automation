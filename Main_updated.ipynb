{
  "nbformat": 4,
  "nbformat_minor": 0,
  "metadata": {
    "colab": {
      "provenance": [],
      "toc_visible": true,
      "authorship_tag": "ABX9TyPNKs/u7bqCSxUwtLPZvtTR",
      "include_colab_link": true
    },
    "kernelspec": {
      "name": "python3",
      "display_name": "Python 3"
    },
    "language_info": {
      "name": "python"
    }
  },
  "cells": [
    {
      "cell_type": "markdown",
      "metadata": {
        "id": "view-in-github",
        "colab_type": "text"
      },
      "source": [
        "<a href=\"https://colab.research.google.com/github/Vinshul44/Trading-System-with-ML-Automation/blob/main/Main_updated.ipynb\" target=\"_parent\"><img src=\"https://colab.research.google.com/assets/colab-badge.svg\" alt=\"Open In Colab\"/></a>"
      ]
    },
    {
      "cell_type": "code",
      "source": [
        "from data_fetch import fetch_stock_data\n",
        "from strategy import apply_strategy\n",
        "from backtest import backtest\n",
        "from google_sheet import connect_google_sheet, log_trades\n",
        "from ml_model2 import train_model\n",
        "from telegram_bot import send_telegram\n",
        "import warnings\n",
        "warnings.filterwarnings('ignore')\n",
        "import os\n",
        "from dotenv import load_dotenv\n",
        "\n",
        "load_dotenv(dotenv_path='env')\n",
        "telegram_token = os.getenv(\"TELEGRAM_TOKEN\")\n",
        "telegram_chat_id = os.getenv(\"TELEGRAM_CHAT_ID\")\n",
        "\n"
        "os.environ[\"GOOGLE_SHEETS_CREDENTIALS\"] = \"/content/credentials.json.json\"\n",
        "stock_list = ['RELIANCE.NS', 'TCS.NS', 'INFY.NS']\n",
        "data = fetch_stock_data(stock_list, '2023-01-01', '2025-06-01')\n",
        "sheet = connect_google_sheet(\"Algo_Trading_Log\")\n",
        "\n",
        "for stock, df in data.items():\n",
        "    df = apply_strategy(df)\n",
        "    if df.empty or 'Buy_Signal' not in df.columns:\n",
        "        print(f\"{stock} - No data or signal to process.\")\n",
        "        continue\n",
        "\n",
        "    if not df['Buy_Signal'].any():\n",
        "        print(f\"{stock} - No buy signals in strategy.\")\n",
        "        continue\n",
        "\n",
        "    try:\n",
        "        trades = backtest(df)\n",
        "    except ValueError as ve:\n",
        "        print(f\"{stock} - Backtest error: {ve}\")\n",
        "        continue\n",
        "\n",
        "    # Convert pandas Series to native types for Google Sheets logging\n",
        "    clean_trades = []\n",
        "    for trade in trades:\n",
        "        clean_trade = {k: (v.item() if hasattr(v, 'item') else v) for k, v in trade.items()}\n",
        "        clean_trades.append(clean_trade)\n",
        "\n",
        "    log_trades(sheet, clean_trades)\n",
        "    send_telegram(f\"{stock}: {len(trades)} trades logged.\")\n",
        "\n",
        "    if len(df.dropna()) > 60:\n",
        "        model, acc = train_model(df)\n",
        "        print(f\"{stock} - ML Accuracy: {acc:.2f}\")\n",
        "    else:\n",
        "        print(f\"{stock} - Skipping ML model: not enough data\")"
      ],
      "metadata": {
        "colab": {
          "base_uri": "https://localhost:8080/"
        },
        "id": "xxs2FZcuIKyV",
        "outputId": "6058860e-4e6a-43e7-f368-d845299c043d"
      },
      "execution_count": 3,
      "outputs": [
        {
          "output_type": "stream",
          "name": "stderr",
          "text": [
            "[*********************100%***********************]  1 of 1 completed\n",
            "[*********************100%***********************]  1 of 1 completed\n",
            "[*********************100%***********************]  1 of 1 completed\n"
          ]
        },
        {
          "output_type": "stream",
          "name": "stdout",
          "text": [
            "✅ Telegram alert sent!\n",
            "RELIANCE.NS - ML Accuracy: 0.61\n",
            "✅ Telegram alert sent!\n",
            "TCS.NS - ML Accuracy: 0.61\n",
            "✅ Telegram alert sent!\n",
            "INFY.NS - ML Accuracy: 0.50\n"
          ]
        }
      ]
    }
  ]
}
