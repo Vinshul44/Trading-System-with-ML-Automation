{
  "nbformat": 4,
  "nbformat_minor": 0,
  "metadata": {
    "colab": {
      "provenance": [],
      "authorship_tag": "ABX9TyMHOeeLFXR/ZLkXVfyWpgKs",
      "include_colab_link": true
    },
    "kernelspec": {
      "name": "python3",
      "display_name": "Python 3"
    },
    "language_info": {
      "name": "python"
    }
  },
  "cells": [
    {
      "cell_type": "markdown",
      "metadata": {
        "id": "view-in-github",
        "colab_type": "text"
      },
      "source": [
        "<a href=\"https://colab.research.google.com/github/Vinshul44/Trading-System-with-ML-Automation/blob/main/Mainxgboost.ipynb\" target=\"_parent\"><img src=\"https://colab.research.google.com/assets/colab-badge.svg\" alt=\"Open In Colab\"/></a>"
      ]
    },
    {
      "cell_type": "code",
      "execution_count": 12,
      "metadata": {
        "id": "fQyiyzy0lC95"
      },
      "outputs": [],
      "source": [
        "# Applying XGboost\n",
        "import numpy as np\n",
        "from sklearn.model_selection import train_test_split\n",
        "from sklearn.metrics import accuracy_score\n",
        "from xgboost import XGBClassifier\n",
        "import pandas as pd\n",
        "import numpy as np\n",
        "from sklearn.model_selection import train_test_split\n",
        "from sklearn.metrics import accuracy_score\n",
        "from xgboost import XGBClassifier\n",
        "\n",
        "# If you don’t import from strategy.py, define this here\n",
        "def compute_rsi(series, period=14):\n",
        "    delta = series.diff()\n",
        "    gain = delta.clip(lower=0)\n",
        "    loss = -delta.clip(upper=0)\n",
        "    avg_gain = gain.rolling(window=period).mean()\n",
        "    avg_loss = loss.rolling(window=period).mean()\n",
        "    rs = avg_gain / avg_loss\n",
        "    rsi = 100 - (100 / (1 + rs))\n",
        "    return rsi\n",
        "\n",
        "def compute_macd(close, fast=12, slow=26, signal=9):\n",
        "    ema_fast = close.ewm(span=fast, adjust=False).mean()\n",
        "    ema_slow = close.ewm(span=slow, adjust=False).mean()\n",
        "    macd = ema_fast - ema_slow\n",
        "    signal_line = macd.ewm(span=signal, adjust=False).mean()\n",
        "    macd_hist = macd - signal_line\n",
        "    return macd, signal_line, macd_hist\n",
        "def apply_strategy(df):\n",
        "    df['RSI'] = compute_rsi(df['Close'], 14)\n",
        "    df['20_MA'] = df['Close'].rolling(window=20).mean()\n",
        "    df['50_MA'] = df['Close'].rolling(window=50).mean()\n",
        "    df['Buy_Signal'] = (df['RSI'] < 30) & (df['20_MA'] > df['50_MA'])\n",
        "    return df\n",
        "\n",
        "def train_model(df):\n",
        "    # Calculate indicators\n",
        "    df['RSI'] = compute_rsi(df['Close'], 14)\n",
        "    macd, signal_line, hist = compute_macd(df['Close'])\n",
        "    df['MACD'] = macd\n",
        "    df['20_MA'] = df['Close'].rolling(window=20).mean()\n",
        "    # Handle missing 'Volume'\n",
        "    if 'Volume' not in df.columns:\n",
        "        df['Volume'] = 0\n",
        "\n",
        "    # Create target\n",
        "    df['Target'] = np.where(df['Close'].shift(-1) > df['Close'], 1, 0)\n",
        "\n",
        "    features = ['RSI', 'MACD', 'Volume', '20_MA']\n",
        "    target = 'Target'\n",
        "\n",
        "    if df.empty:\n",
        "        raise ValueError(\"No valid rows after dropping NaNs.\")\n",
        "\n",
        "    # Prepare training\n",
        "    X = df[features]\n",
        "    y = df[target]\n",
        "\n",
        "    X_train, X_test, y_train, y_test = train_test_split(X, y, test_size=0.2, random_state=42)\n",
        "\n",
        "    model = XGBClassifier(use_label_encoder=True, eval_metric='logloss')\n",
        "    model.fit(X_train, y_train)\n",
        "\n",
        "    preds = model.predict(X_test)\n",
        "    acc = accuracy_score(y_test, preds)\n",
        "\n",
        "    return model, acc\n"
      ]
    },
    {
      "cell_type": "code",
      "source": [
        "from data_fetch import fetch_stock_data\n",
        "from backtest import backtest\n",
        "from google_sheet import connect_google_sheet, log_trades\n",
        "from telegram_bot import send_telegram\n",
        "import warnings\n",
        "warnings.filterwarnings('ignore')\n",
        "import os\n",
        "\n",
        "os.environ[\"GOOGLE_SHEETS_CREDENTIALS\"] = \"/content/credentials.json.json\"\n",
        "os.environ[\"TELEGRAM_TOKEN\"] = \"8143044630:AAEKt3jjfUnuiCIqh654CBjm9md8m7nv-So\"\n",
        "os.environ[\"TELEGRAM_CHAT_ID\"] = \"5417266671\"\n",
        "stock_list = ['RELIANCE.NS', 'TCS.NS', 'INFY.NS']\n",
        "data = fetch_stock_data(stock_list, '2024-01-01', '2025-04-01')\n",
        "sheet = connect_google_sheet(\"Algo_Trading_Log\")\n",
        "\n",
        "\n",
        "for stock, df in data.items():\n",
        "    df = apply_strategy(df)\n",
        "\n",
        "    if df.empty or 'Buy_Signal' not in df.columns:\n",
        "        print(f\"{stock} - No data or signal to process.\")\n",
        "        continue\n",
        "\n",
        "    if not df['Buy_Signal'].any():\n",
        "        print(f\"{stock} - No buy signals in strategy.\")\n",
        "        continue\n",
        "\n",
        "    try:\n",
        "        trades = backtest(df)\n",
        "    except ValueError as ve:\n",
        "        print(f\"{stock} - Backtest error: {ve}\")\n",
        "        continue\n",
        "\n",
        "    # Convert pandas Series to native types for Google Sheets logging\n",
        "    clean_trades = []\n",
        "    for trade in trades:\n",
        "        clean_trade = {k: (v.item() if hasattr(v, 'item') else v) for k, v in trade.items()}\n",
        "        clean_trades.append(clean_trade)\n",
        "\n",
        "    log_trades(sheet, clean_trades)\n",
        "    send_telegram(f\"{stock}: {len(trades)} trades logged.\")\n",
        "\n",
        "    if len(df.dropna()) > 60:\n",
        "        model, acc = train_model(df)\n",
        "        print(f\"{stock} - ML Accuracy: {acc:.2f}\")\n",
        "    else:\n",
        "        print(f\"{stock} - Skipping ML model: not enough data\")"
      ],
      "metadata": {
        "colab": {
          "base_uri": "https://localhost:8080/"
        },
        "id": "-icWu1VIlLPD",
        "outputId": "2f8ef351-763c-4b04-f7af-b33509b157ba"
      },
      "execution_count": 14,
      "outputs": [
        {
          "output_type": "stream",
          "name": "stderr",
          "text": [
            "[*********************100%***********************]  1 of 1 completed\n",
            "[*********************100%***********************]  1 of 1 completed\n",
            "[*********************100%***********************]  1 of 1 completed\n"
          ]
        },
        {
          "output_type": "stream",
          "name": "stdout",
          "text": [
            "✅ Telegram alert sent!\n",
            "RELIANCE.NS - ML Accuracy: 0.68\n",
            "✅ Telegram alert sent!\n",
            "TCS.NS - ML Accuracy: 0.42\n",
            "✅ Telegram alert sent!\n",
            "INFY.NS - ML Accuracy: 0.42\n"
          ]
        }
      ]
    },
    {
      "cell_type": "code",
      "source": [],
      "metadata": {
        "id": "Jw-PrtQMlXb-"
      },
      "execution_count": null,
      "outputs": []
    }
  ]
}