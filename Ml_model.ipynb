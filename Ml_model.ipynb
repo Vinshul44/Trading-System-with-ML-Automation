{
  "nbformat": 4,
  "nbformat_minor": 0,
  "metadata": {
    "colab": {
      "provenance": [],
      "authorship_tag": "ABX9TyO1izN2e60VLnujs3JHjAml",
      "include_colab_link": true
    },
    "kernelspec": {
      "name": "python3",
      "display_name": "Python 3"
    },
    "language_info": {
      "name": "python"
    }
  },
  "cells": [
    {
      "cell_type": "markdown",
      "metadata": {
        "id": "view-in-github",
        "colab_type": "text"
      },
      "source": [
        "<a href=\"https://colab.research.google.com/github/Vinshul44/Trading-System-with-ML-Automation/blob/main/Ml_model.ipynb\" target=\"_parent\"><img src=\"https://colab.research.google.com/assets/colab-badge.svg\" alt=\"Open In Colab\"/></a>"
      ]
    },
    {
      "cell_type": "code",
      "execution_count": null,
      "metadata": {
        "id": "xnrePsDdbty5"
      },
      "outputs": [],
      "source": [
        "from sklearn.model_selection import train_test_split\n",
        "from sklearn.tree import DecisionTreeClassifier\n",
        "from sklearn.metrics import accuracy_score\n",
        "import numpy as np\n",
        "\n",
        "def train_model(df):\n",
        "    df = df.copy()\n",
        "\n",
        "    # Feature engineering (if not already present)\n",
        "    df['Target'] = np.where(df['Close'].shift(-1) > df['Close'], 1, 0)\n",
        "    df.dropna(inplace=True)\n",
        "\n",
        "    # Define features and target\n",
        "    features = ['RSI', '20_MA', '50_MA', 'Volume']\n",
        "    if not all(f in df.columns for f in features):\n",
        "        raise ValueError(\"Missing required feature columns.\")\n",
        "\n",
        "    X = df[features]\n",
        "    y = df['Target']\n",
        "\n",
        "    # ❗ Safety check for sample size\n",
        "    if len(X) < 10:\n",
        "        raise ValueError(f\"Insufficient data for ML training: only {len(X)} samples.\")\n",
        "\n",
        "    # Train-test split\n",
        "    X_train, X_test, y_train, y_test = train_test_split(X, y, test_size=0.2, random_state=42)\n",
        "\n",
        "    model = DecisionTreeClassifier()\n",
        "    model.fit(X_train, y_train)\n",
        "    preds = model.predict(X_test)\n",
        "    acc = accuracy_score(y_test, preds)\n",
        "\n",
        "    return model, acc"
      ]
    }
  ]
}