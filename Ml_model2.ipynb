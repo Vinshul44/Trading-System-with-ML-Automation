{
  "nbformat": 4,
  "nbformat_minor": 0,
  "metadata": {
    "colab": {
      "provenance": [],
      "authorship_tag": "ABX9TyOVoH4JIcuqjPy28jcpdAUX",
      "include_colab_link": true
    },
    "kernelspec": {
      "name": "python3",
      "display_name": "Python 3"
    },
    "language_info": {
      "name": "python"
    }
  },
  "cells": [
    {
      "cell_type": "markdown",
      "metadata": {
        "id": "view-in-github",
        "colab_type": "text"
      },
      "source": [
        "<a href=\"https://colab.research.google.com/github/Vinshul44/Trading-System-with-ML-Automation/blob/main/Ml_model2.ipynb\" target=\"_parent\"><img src=\"https://colab.research.google.com/assets/colab-badge.svg\" alt=\"Open In Colab\"/></a>"
      ]
    },
    {
      "cell_type": "code",
      "execution_count": null,
      "metadata": {
        "id": "8-iaVLYyrR2_"
      },
      "outputs": [],
      "source": [
        "import pandas as pd\n",
        "import numpy as np\n",
        "from sklearn.model_selection import train_test_split\n",
        "from sklearn.tree import DecisionTreeClassifier\n",
        "from sklearn.metrics import accuracy_score\n",
        "from sklearn.preprocessing import StandardScaler\n",
        "def train_model(df):\n",
        "    # Create a safe copy to work on\n",
        "    df1 = df.copy()\n",
        "\n",
        "    if 'Close' not in df1.columns:\n",
        "        raise ValueError(\"Missing 'Close' column\")\n",
        "\n",
        "    # Feature engineering on df1\n",
        "    df1['Daily_Return'] = df1['Close'].pct_change()\n",
        "    df1['Return_5D'] = df1['Close'].pct_change(5)\n",
        "    df1['Volatility_10D'] = df1['Close'].rolling(10).std()\n",
        "\n",
        "    if 'High' not in df1.columns:\n",
        "        df1['High'] = df1['Close']\n",
        "    if 'Low' not in df1.columns:\n",
        "        df1['Low'] = df1['Close']\n",
        "    df1['High_Low_Range'] = df1['High'] - df1['Low']\n",
        "    df1['Target'] = np.where(df1['Close'].shift(-2) > df1['Close'] * 1.005, 1, 0)\n",
        "\n",
        "    features = [\n",
        "    'RSI', '20_MA', '50_MA', 'Daily_Return',\n",
        "    'Return_5D', 'Volatility_10D', 'High_Low_Range', 'Volume'\n",
        "            ]\n",
        "\n",
        "    all_cols = features + ['Target']\n",
        "    df1 = df1.dropna()\n",
        "\n",
        "    if df1.empty:\n",
        "        raise ValueError(\"No valid data to train the model\")\n",
        "\n",
        "    X = df1[features]\n",
        "    y = df1['Target']\n",
        "\n",
        "    scaler = StandardScaler()\n",
        "    X_scaled = scaler.fit_transform(X)\n",
        "\n",
        "    X_train, X_test, y_train, y_test = train_test_split(\n",
        "        X_scaled, y, test_size=0.2, random_state=42, shuffle=True\n",
        "    )\n",
        "\n",
        "    model = DecisionTreeClassifier(max_depth=6, random_state=42)\n",
        "    model.fit(X_train, y_train)\n",
        "    preds = model.predict(X_test)\n",
        "    acc = accuracy_score(y_test, preds)\n",
        "\n",
        "    return model, acc"
      ]
    }
  ]
}