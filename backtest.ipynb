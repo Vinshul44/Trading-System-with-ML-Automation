{
  "nbformat": 4,
  "nbformat_minor": 0,
  "metadata": {
    "colab": {
      "provenance": [],
      "authorship_tag": "ABX9TyNh0HSQNlqcPaMudEI96UyB",
      "include_colab_link": true
    },
    "kernelspec": {
      "name": "python3",
      "display_name": "Python 3"
    },
    "language_info": {
      "name": "python"
    }
  },
  "cells": [
    {
      "cell_type": "markdown",
      "metadata": {
        "id": "view-in-github",
        "colab_type": "text"
      },
      "source": [
        "<a href=\"https://colab.research.google.com/github/Vinshul44/Trading-System-with-ML-Automation/blob/main/backtest.ipynb\" target=\"_parent\"><img src=\"https://colab.research.google.com/assets/colab-badge.svg\" alt=\"Open In Colab\"/></a>"
      ]
    },
    {
      "cell_type": "code",
      "execution_count": null,
      "metadata": {
        "id": "J2CYgpU_Mjq8"
      },
      "outputs": [],
      "source": [
        "def backtest(df):\n",
        "    buy_price = None\n",
        "    trades = []\n",
        "\n",
        "    for i in range(len(df)):\n",
        "        # Safely get the Buy_Signal value\n",
        "        signal = df['Buy_Signal'].iloc[i]\n",
        "        rsi = df['RSI'].iloc[i]\n",
        "        close_price = df['Close'].iloc[i]\n",
        "        date = df.index[i]\n",
        "\n",
        "        # Ensure signal is a scalar boolean\n",
        "        if bool(signal) and buy_price is None:\n",
        "            buy_price = close_price\n",
        "            trades.append({'Date': date, 'Action': 'Buy', 'Price': buy_price})\n",
        "\n",
        "        elif buy_price is not None and rsi > 70:\n",
        "            sell_price = close_price\n",
        "            trades.append({'Date': date, 'Action': 'Sell', 'Price': sell_price, 'P&L': sell_price - buy_price})\n",
        "            buy_price = None\n",
        "\n",
        "    return trades"
      ]
    }
  ]
}