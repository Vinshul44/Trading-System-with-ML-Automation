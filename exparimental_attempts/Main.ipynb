{
  "nbformat": 4,
  "nbformat_minor": 0,
  "metadata": {
    "colab": {
      "provenance": []
    },
    "kernelspec": {
      "name": "python3",
      "display_name": "Python 3"
    },
    "language_info": {
      "name": "python"
    }
  },
  "cells": [
    {
      "cell_type": "code",
      "source": [
        "from data_fetch import fetch_stock_data\n",
        "from strategy import apply_strategy\n",
        "from backtest import backtest\n",
        "from google_sheet import connect_google_sheet, log_trades\n",
        "from ml_model import train_model\n",
        "from telegram_bot import send_telegram\n",
        "import os\n",
        "\n",
        "os.environ[\"GOOGLE_SHEETS_CREDENTIALS\"] = \"/content/credentials.json.json\"\n",
        "os.environ[\"TELEGRAM_TOKEN\"] = \"8143044630:AAEKt3jjfUnuiCIqh654CBjm9md8m7nv-So\"\n",
        "os.environ[\"TELEGRAM_CHAT_ID\"] = \"5417266671\"\n",
        "stock_list = ['RELIANCE.NS', 'TCS.NS', 'INFY.NS']\n",
        "data = fetch_stock_data(stock_list, '2024-01-01', '2025-02-01')\n",
        "sheet = connect_google_sheet(\"Algo_Trading_Log\")\n",
        "\n",
        "\n",
        "for stock, df in data.items():\n",
        "    df = apply_strategy(df)\n",
        "\n",
        "    if df.empty or 'Buy_Signal' not in df.columns:\n",
        "        print(f\"{stock} - No data or signal to process.\")\n",
        "        continue\n",
        "\n",
        "    if not df['Buy_Signal'].any():\n",
        "        print(f\"{stock} - No buy signals in strategy.\")\n",
        "        continue\n",
        "\n",
        "    try:\n",
        "        trades = backtest(df)\n",
        "    except ValueError as ve:\n",
        "        print(f\"{stock} - Backtest error: {ve}\")\n",
        "        continue\n",
        "\n",
        "    # Convert pandas Series to native types for Google Sheets logging\n",
        "    clean_trades = []\n",
        "    for trade in trades:\n",
        "        clean_trade = {k: (v.item() if hasattr(v, 'item') else v) for k, v in trade.items()}\n",
        "        clean_trades.append(clean_trade)\n",
        "\n",
        "    log_trades(sheet, clean_trades)\n",
        "    send_telegram(f\"{stock}: {len(trades)} trades logged.\")\n",
        "\n",
        "    if len(df.dropna()) > 60:\n",
        "        model, acc = train_model(df)\n",
        "        print(f\"{stock} - ML Accuracy: {acc:.2f}\")\n",
        "    else:\n",
        "        print(f\"{stock} - Skipping ML model: not enough data\")"
      ],
      "metadata": {
        "colab": {
          "base_uri": "https://localhost:8080/"
        },
        "id": "deC1bNdvZheo",
        "outputId": "35776997-a1e2-4df2-9905-9de658fc476a"
      },
      "execution_count": null,
      "outputs": [
        {
          "output_type": "stream",
          "name": "stderr",
          "text": [
            "[*********************100%***********************]  1 of 1 completed\n",
            "[*********************100%***********************]  1 of 1 completed\n",
            "[*********************100%***********************]  1 of 1 completed\n"
          ]
        },
        {
          "output_type": "stream",
          "name": "stdout",
          "text": [
            "✅ Telegram alert sent!\n",
            "RELIANCE.NS - ML Accuracy: 0.55\n",
            "✅ Telegram alert sent!\n",
            "TCS.NS - ML Accuracy: 0.45\n",
            "✅ Telegram alert sent!\n",
            "INFY.NS - ML Accuracy: 0.64\n"
          ]
        }
      ]
    }
  ]
}