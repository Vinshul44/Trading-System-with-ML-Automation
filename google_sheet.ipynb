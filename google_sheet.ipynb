{
  "nbformat": 4,
  "nbformat_minor": 0,
  "metadata": {
    "colab": {
      "provenance": [],
      "authorship_tag": "ABX9TyOwgqiaSeB7BxhI4W/MXsIv",
      "include_colab_link": true
    },
    "kernelspec": {
      "name": "python3",
      "display_name": "Python 3"
    },
    "language_info": {
      "name": "python"
    }
  },
  "cells": [
    {
      "cell_type": "markdown",
      "metadata": {
        "id": "view-in-github",
        "colab_type": "text"
      },
      "source": [
        "<a href=\"https://colab.research.google.com/github/Vinshul44/Trading-System-with-ML-Automation/blob/main/google_sheet.ipynb\" target=\"_parent\"><img src=\"https://colab.research.google.com/assets/colab-badge.svg\" alt=\"Open In Colab\"/></a>"
      ]
    },
    {
      "cell_type": "code",
      "execution_count": null,
      "metadata": {
        "id": "2zMbOgnJM3B-"
      },
      "outputs": [],
      "source": [
        "import gspread\n",
        "from google.oauth2.service_account import Credentials\n",
        "import os\n",
        "\n",
        "def connect_google_sheet(sheet_name):\n",
        "    scope = [\n",
        "        \"https://www.googleapis.com/auth/spreadsheets\",\n",
        "        \"https://www.googleapis.com/auth/drive\"\n",
        "    ]\n",
        "    creds_path = os.getenv(\"GOOGLE_SHEETS_CREDENTIALS\")\n",
        "    creds = Credentials.from_service_account_file(creds_path, scopes=scope)\n",
        "    client = gspread.authorize(creds)\n",
        "    sheet = client.open(sheet_name)\n",
        "\n",
        "    # Ensure \"Trade Log\" worksheet exists\n",
        "    try:\n",
        "        sheet.worksheet(\"Trade Log\")\n",
        "    except gspread.WorksheetNotFound:\n",
        "        sheet.add_worksheet(title=\"Trade Log\", rows=\"100\", cols=\"5\")\n",
        "\n",
        "    return sheet\n",
        "\n",
        "def log_trades(sheet, trades):\n",
        "    worksheet = sheet.worksheet(\"Trade Log\")\n",
        "    for trade in trades:\n",
        "        worksheet.append_row([str(trade['Date']), trade['Action'], trade['Price'], trade.get('P&L', '')])"
      ]
    }
  ]
}