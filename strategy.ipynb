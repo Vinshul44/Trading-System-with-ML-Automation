{
  "nbformat": 4,
  "nbformat_minor": 0,
  "metadata": {
    "colab": {
      "provenance": [],
      "authorship_tag": "ABX9TyPsMZN76qUCQ8RJl1/T4PZT",
      "include_colab_link": true
    },
    "kernelspec": {
      "name": "python3",
      "display_name": "Python 3"
    },
    "language_info": {
      "name": "python"
    }
  },
  "cells": [
    {
      "cell_type": "markdown",
      "metadata": {
        "id": "view-in-github",
        "colab_type": "text"
      },
      "source": [
        "<a href=\"https://colab.research.google.com/github/Vinshul44/Trading-System-with-ML-Automation/blob/main/strategy.ipynb\" target=\"_parent\"><img src=\"https://colab.research.google.com/assets/colab-badge.svg\" alt=\"Open In Colab\"/></a>"
      ]
    },
    {
      "cell_type": "code",
      "execution_count": null,
      "metadata": {
        "id": "4K8ogVxQMIGs"
      },
      "outputs": [],
      "source": [
        "import pandas as pd\n",
        "\n",
        "def compute_rsi(close, period=14):\n",
        "    delta = close.diff()\n",
        "    gain = delta.clip(lower=0)\n",
        "    loss = -delta.clip(upper=0)\n",
        "\n",
        "    avg_gain = gain.rolling(window=period).mean()\n",
        "    avg_loss = loss.rolling(window=period).mean()\n",
        "\n",
        "    rs = avg_gain / avg_loss\n",
        "    rsi = 100 - (100 / (1 + rs))\n",
        "    return rsi\n",
        "    # strategy.py\n",
        "\n",
        "def compute_macd(close, fast=12, slow=26, signal=9):\n",
        "    ema_fast = close.ewm(span=fast, adjust=False).mean()\n",
        "    ema_slow = close.ewm(span=slow, adjust=False).mean()\n",
        "    macd = ema_fast - ema_slow\n",
        "    signal_line = macd.ewm(span=signal, adjust=False).mean()\n",
        "    macd_hist = macd - signal_line\n",
        "    return macd, signal_line, macd_hist\n",
        "\n",
        "def apply_strategy(df):\n",
        "    df['RSI'] = compute_rsi(df['Close'], 14)\n",
        "    df['20_MA'] = df['Close'].rolling(window=20).mean()\n",
        "    df['50_MA'] = df['Close'].rolling(window=50).mean()\n",
        "    df['Buy_Signal'] = (df['RSI'] < 30) & (df['20_MA'] > df['50_MA'])\n",
        "    return df"
      ]
    }
  ]
}