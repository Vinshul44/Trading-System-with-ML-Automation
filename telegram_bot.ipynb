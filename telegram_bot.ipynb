{
  "nbformat": 4,
  "nbformat_minor": 0,
  "metadata": {
    "colab": {
      "provenance": [],
      "authorship_tag": "ABX9TyMDybpfdxUjQatIzdajiZds",
      "include_colab_link": true
    },
    "kernelspec": {
      "name": "python3",
      "display_name": "Python 3"
    },
    "language_info": {
      "name": "python"
    }
  },
  "cells": [
    {
      "cell_type": "markdown",
      "metadata": {
        "id": "view-in-github",
        "colab_type": "text"
      },
      "source": [
        "<a href=\"https://colab.research.google.com/github/Vinshul44/Trading-System-with-ML-Automation/blob/main/telegram_bot.ipynb\" target=\"_parent\"><img src=\"https://colab.research.google.com/assets/colab-badge.svg\" alt=\"Open In Colab\"/></a>"
      ]
    },
    {
      "cell_type": "code",
      "source": [
        "import os\n",
        "import requests\n",
        "\n",
        "def send_telegram(message):\n",
        "    token = os.getenv(\"TELEGRAM_TOKEN\")\n",
        "    chat_id = os.getenv(\"TELEGRAM_CHAT_ID\")\n",
        "\n",
        "    # Debug log\n",
        "    if not token or not chat_id:\n",
        "        print(\"Telegram alert skipped: missing token or chat ID.\")\n",
        "        print(f\"TOKEN: {token}, CHAT_ID: {chat_id}\")\n",
        "        return\n",
        "    url = f\"https://api.telegram.org/bot{token}/sendMessage\"\n",
        "    payload = {\"chat_id\": chat_id, \"text\": message}\n",
        "\n",
        "    try:\n",
        "        response = requests.post(url, data=payload)\n",
        "        if response.status_code != 200:\n",
        "            print(f\"Telegram alert failed: {response.status_code} - {response.text}\")\n",
        "        else:\n",
        "            print(\"✅ Telegram alert sent!\")\n",
        "    except Exception as e:\n",
        "        print(f\"Telegram alert error: {e}\")"
      ],
      "metadata": {
        "id": "rOTb-eo4YO7k"
      },
      "execution_count": null,
      "outputs": []
    }
  ]
}